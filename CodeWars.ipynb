{
 "cells": [
  {
   "cell_type": "markdown",
   "metadata": {},
   "source": [
    "## CodeWar Practice Questions\n",
    "The first function is my attempt, the second function is a more efficient solution to learn from. "
   ]
  },
  {
   "cell_type": "markdown",
   "metadata": {
    "colab_type": "text",
    "id": "msEpds_UZkc2"
   },
   "source": [
    "1. An isogram is a word that has no repeating letters, consecutive or non-consecutive. Implement a function that determines whether a string that contains only letters is an isogram. Assume the empty string is an isogram. Ignore letter case.\n",
    "\n",
    "```\n",
    "is_isogram(\"Dermatoglyphics\" ) == true\n",
    "is_isogram(\"aba\" ) == false\n",
    "is_isogram(\"moOse\" ) == false # -- ignore letter case\n",
    "```\n",
    "\n",
    "\n",
    "\n"
   ]
  },
  {
   "cell_type": "code",
   "execution_count": null,
   "metadata": {
    "colab": {},
    "colab_type": "code",
    "id": "VdYFhWJFZhTb"
   },
   "outputs": [],
   "source": [
    "def is_isogram(string):\n",
    "    # transform to lower-case\n",
    "    string = string.lower()\n",
    "    \n",
    "    # split string into list of characters\n",
    "    # ['a', 'b', 'a']\n",
    "    list_all = list(string)\n",
    "    \n",
    "    # create list for unique only values\n",
    "    # set returns a set\n",
    "    # {'a', 'b'}\n",
    "    list_set = set(list_all)\n",
    "    \n",
    "    # compare lengths\n",
    "    if len(list_all) == len(list_set):\n",
    "      return True\n",
    "    else:\n",
    "      return False"
   ]
  },
  {
   "cell_type": "code",
   "execution_count": null,
   "metadata": {
    "colab": {},
    "colab_type": "code",
    "id": "NyaOF3SaaOM7"
   },
   "outputs": [],
   "source": [
    "def is_isogram(string):\n",
    "    return len(string) == len(set(string.lower()))"
   ]
  },
  {
   "cell_type": "markdown",
   "metadata": {
    "colab_type": "text",
    "id": "2E4iJqFnalV4"
   },
   "source": [
    "2. Write a function that will return the count of distinct case-insensitive alphabetic characters and numeric digits that occur more than once in the input string. The input string can be assumed to contain only alphabets (both uppercase and lowercase) and numeric digits.\n",
    "\n",
    "```\n",
    "\"abcde\" -> 0 # no characters repeats more than once\n",
    "\"aabbcde\" -> 2 # 'a' and 'b'\n",
    "\"aabBcde\" -> 2 # 'a' occurs twice and 'b' twice (`b` and `B`)\n",
    "\"indivisibility\" -> 1 # 'i' occurs six times\n",
    "\"Indivisibilities\" -> 2 # 'i' occurs seven times and 's' occurs twice\n",
    "\"aA11\" -> 2 # 'a' and '1'\n",
    "\"ABBA\" -> 2 # 'A' and 'B' each occur twice\n",
    "```"
   ]
  },
  {
   "cell_type": "code",
   "execution_count": null,
   "metadata": {
    "colab": {
     "base_uri": "https://localhost:8080/",
     "height": 34
    },
    "colab_type": "code",
    "id": "6DSfFlOramll",
    "outputId": "8cfc8a4d-cd6b-47e8-ec3b-f264a1ba2d59"
   },
   "outputs": [],
   "source": [
    "def duplicate_count(text):\n",
    "   \n",
    "    counter = 0\n",
    "    \n",
    "    # unique only\n",
    "    for char in set(text.lower()):\n",
    "      # reference back to original text\n",
    "      if text.lower().count(char) > 1:\n",
    "        counter += 1\n",
    "         \n",
    "    return counter\n",
    "    \n",
    "    \n",
    "duplicate_count(\"Indivisibilities\")"
   ]
  },
  {
   "cell_type": "code",
   "execution_count": null,
   "metadata": {
    "colab": {},
    "colab_type": "code",
    "id": "6eeubIglfcLJ"
   },
   "outputs": [],
   "source": [
    "def duplicate_count(s):\n",
    "  return len([c for c in set(s.lower()) if s.lower().count(c)>1])"
   ]
  },
  {
   "cell_type": "markdown",
   "metadata": {
    "colab_type": "text",
    "id": "p8ctf39ngP9j"
   },
   "source": [
    "3. You are given an array (which will have a length of at least 3, but could be very large) containing integers. The array is either entirely comprised of odd integers or entirely comprised of even integers except for a single integer N. Write a method that takes the array as an argument and returns this \"outlier\" N.\n",
    "\n",
    "```\n",
    "[2, 4, 0, 100, 4, 11, 2602, 36]\n",
    "Should return: 11 (the only odd number)\n",
    "\n",
    "[160, 3, 1719, 19, 11, 13, -21]\n",
    "Should return: 160 (the only even number)\n",
    "```"
   ]
  },
  {
   "cell_type": "code",
   "execution_count": null,
   "metadata": {
    "colab": {},
    "colab_type": "code",
    "id": "L5K39oTJkhTj"
   },
   "outputs": [],
   "source": [
    "def find_outlier(integers):"
   ]
  },
  {
   "cell_type": "code",
   "execution_count": null,
   "metadata": {
    "colab": {
     "base_uri": "https://localhost:8080/",
     "height": 34
    },
    "colab_type": "code",
    "id": "k-npA2vIgXnO",
    "outputId": "c8b313a4-1d36-4990-fc63-77cdfe7bc6aa"
   },
   "outputs": [],
   "source": [
    "def find_outlier(integers):\n",
    "    # look at first three integers\n",
    "    integers_3 = integers[:3]\n",
    "    \n",
    "    counter = 0 \n",
    "    for int in integers_3:\n",
    "      # even even odd 1 1 0 = 2\n",
    "      # odd odd even 0 0 1 = 1   \n",
    "      # even even even 1 1 1 = 3\n",
    "      # odd odd odd 0 0 0 0 = 0\n",
    "      # odds = 1 or 0\n",
    "      if int % 2 == 0:\n",
    "        counter += 1\n",
    "        \n",
    "    if counter < 2:\n",
    "      # this list is mostly odd, find the even num\n",
    "      for int in integers:\n",
    "        if int % 2 == 0:\n",
    "          return int\n",
    "    else:\n",
    "      # this list is mostly even, find the odd num\n",
    "      for int in integers:\n",
    "        if int % 2 !=0:\n",
    "          return int\n",
    "        \n",
    "\n",
    "\n",
    "find_outlier([-5644261, -7248367, -9456417, 7493719, -3808089, 6699999, 4786661, -2797105, 1708991, 275625, 9400393, 5126547, 7664511, 270011, -8898253, -1138321, 9008097, -3099845, -7034535, -5984917, 9536781, -2769289, 6101661, -8631873, -4353553, 4761629, 4863925, 8620137, 624663, -9144755, 6692423, -6620675, -7036312, 1624741, -1262359, 1704413, -4935053, 8608761, 115765, 7646039])"
   ]
  },
  {
   "cell_type": "code",
   "execution_count": null,
   "metadata": {
    "colab": {
     "base_uri": "https://localhost:8080/",
     "height": 34
    },
    "colab_type": "code",
    "id": "z2z3VEFtpjP3",
    "outputId": "225a42be-0c10-4680-846e-8e7391b04772"
   },
   "outputs": [],
   "source": [
    "def find_outlier(int):\n",
    "    odds = [x for x in int if x % 2 != 0]\n",
    "    evens = [x for x in int if x % 2 == 0]\n",
    "    return odds[0] if len(odds) < len(evens) else evens[0]\n",
    "\n",
    "find_outlier([-5644261, -7248367, -9456417, 7493719, -3808089, 6699999, 4786661, -2797105, 1708991, 275625, 9400393, 5126547, 7664511, 270011, -8898253, -1138321, 9008097, -3099845, -7034535, -5984917, 9536781, -2769289, 6101661, -8631873, -4353553, 4761629, 4863925, 8620137, 624663, -9144755, 6692423, -6620675, -7036312, 1624741, -1262359, 1704413, -4935053, 8608761, 115765, 7646039])"
   ]
  },
  {
   "cell_type": "markdown",
   "metadata": {
    "colab_type": "text",
    "id": "zdrB26DZiiWR"
   },
   "source": [
    "4. Write a function that takes a string of braces, and determines if the order of the braces is valid. It should return true if the string is valid, and false if it's invalid.\n",
    "\n",
    "This Kata is similar to the Valid Parentheses Kata, but introduces new characters: brackets [], and curly braces {}. Thanks to @arnedag for the idea!\n",
    "\n",
    "All input strings will be nonempty, and will only consist of parentheses, brackets and curly braces: ()[]{}.\n",
    "\n",
    "```\n",
    "\"(){}[]\"   =>  True\n",
    "\"([{}])\"   =>  True\n",
    "\"(}\"       =>  False\n",
    "\"[(])\"     =>  False\n",
    "\"[({})](]\" =>  False\n",
    "```"
   ]
  },
  {
   "cell_type": "code",
   "execution_count": null,
   "metadata": {
    "colab": {
     "base_uri": "https://localhost:8080/",
     "height": 102
    },
    "colab_type": "code",
    "id": "qPpvAFTBifs4",
    "outputId": "89d77b1a-887a-4cd7-d56f-48868893b990"
   },
   "outputs": [],
   "source": [
    "def validBraces(string):\n",
    "  copy = string\n",
    "  \n",
    "  for char in range(len(copy)//2):\n",
    "    copy = copy.replace(\"{}\", \"\").replace(\"[]\", \"\").replace(\"()\", \"\")\n",
    "    \n",
    "  return len(copy) == 0\n",
    "\n",
    "strings = [\"(){}[]\", \"([{}])\", \"(}\", \"[(])\", \"[({})](]\"]\n",
    "for string in strings:\n",
    "  print(string, validBraces(string))\n"
   ]
  },
  {
   "cell_type": "markdown",
   "metadata": {
    "colab_type": "text",
    "id": "lFY9b_jDpccL"
   },
   "source": [
    "5. Move the first letter of each word to the end of it, then add \"ay\" to the end of the word. Leave punctuation marks untouched.\n",
    "\n",
    "```\n",
    "pig_it('Pig latin is cool') # igPay atinlay siay oolcay\n",
    "pig_it('Hello world !')     # elloHay orldway !\n",
    "```"
   ]
  },
  {
   "cell_type": "code",
   "execution_count": null,
   "metadata": {
    "colab": {
     "base_uri": "https://localhost:8080/",
     "height": 51
    },
    "colab_type": "code",
    "id": "CzOQNDY9qHBQ",
    "outputId": "6feff3fb-0b3b-49a5-e0ac-ea0cbf56f575"
   },
   "outputs": [],
   "source": [
    "def pig_it(text):\n",
    "  \n",
    "  # split each word into a list\n",
    "  text = text.split()\n",
    "  \n",
    "  new_text = []\n",
    "  for word in text:   \n",
    "    if word.isalpha() == True:\n",
    "      new = word[1:] + word[0] + \"ay\"\n",
    "      new_text.append(new)\n",
    "    else:\n",
    "      new_text.append(word)\n",
    "  \n",
    "  return \" \".join(new_text)\n",
    "\n",
    "\n",
    "strings = ['Pig latin is cool', 'Hello world !']\n",
    "for string in strings:\n",
    "  print(pig_it(string))"
   ]
  },
  {
   "cell_type": "code",
   "execution_count": null,
   "metadata": {
    "colab": {},
    "colab_type": "code",
    "id": "b9CVNaSmvJ81"
   },
   "outputs": [],
   "source": [
    "def pig_it(text):\n",
    "    lst = text.split()\n",
    "    return ' '.join( [word[1:] + word[:1] + 'ay' if word.isalpha() else word for word in lst])"
   ]
  },
  {
   "cell_type": "markdown",
   "metadata": {
    "colab_type": "text",
    "id": "GhSARcRmpbru"
   },
   "source": [
    "6. Write a function that takes an integer as input, and returns the number of bits that are equal to one in the binary representation of that number. You can guarantee that input is non-negative.\n",
    "\n",
    "```\n",
    "The binary representation of 1234 is 10011010010, so the function should return 5 in this case\n",
    "```"
   ]
  },
  {
   "cell_type": "code",
   "execution_count": null,
   "metadata": {
    "colab": {},
    "colab_type": "code",
    "id": "wqkUWh42vgpj"
   },
   "outputs": [],
   "source": [
    "def countBits(n):\n",
    "  binary = bin(n)\n",
    "  count = 0\n",
    "  for num in binary:\n",
    "    if num == '1':\n",
    "      count +=1\n",
    "  return count\n",
    "  \n",
    "countBits(1234)"
   ]
  },
  {
   "cell_type": "code",
   "execution_count": null,
   "metadata": {
    "colab": {},
    "colab_type": "code",
    "id": "DRejz8xMwyfI"
   },
   "outputs": [],
   "source": [
    "def countBits(n):\n",
    "    return bin(n).count(\"1\")"
   ]
  },
  {
   "cell_type": "markdown",
   "metadata": {
    "colab_type": "text",
    "id": "OC5KtO2PyGtU"
   },
   "source": [
    "7. If we list all the natural numbers below 10 that are multiples of 3 or 5, we get 3, 5, 6 and 9. The sum of these multiples is 23.\n",
    "\n",
    "Finish the solution so that it returns the sum of all the multiples of 3 or 5 below the number passed in.\n",
    "\n",
    "Note: If the number is a multiple of both 3 and 5, only count it once."
   ]
  },
  {
   "cell_type": "code",
   "execution_count": null,
   "metadata": {
    "colab": {
     "base_uri": "https://localhost:8080/",
     "height": 34
    },
    "colab_type": "code",
    "id": "YJwIRzjHw_ZS",
    "outputId": "1e50c40f-5c17-4c82-cec4-576f0e43f6d8"
   },
   "outputs": [],
   "source": [
    "def solution(number):\n",
    "  sum = 0\n",
    "  for x in range(number):\n",
    "    if ((x % 3 == 0) & (x % 5== 0)):\n",
    "      sum += x\n",
    "    elif x % 3 == 0:\n",
    "      sum += x\n",
    "    elif x % 5 == 0:\n",
    "      sum += x\n",
    "     \n",
    "  return sum  \n",
    "\n",
    "solution(10)"
   ]
  },
  {
   "cell_type": "code",
   "execution_count": null,
   "metadata": {
    "colab": {},
    "colab_type": "code",
    "id": "01-NdW0a3CSw"
   },
   "outputs": [],
   "source": [
    "def solution(number):\n",
    "    return sum(x for x in range(number) if x % 3 == 0 or x % 5 == 0)"
   ]
  },
  {
   "cell_type": "markdown",
   "metadata": {
    "colab_type": "text",
    "id": "fW5gXQE7hd1h"
   },
   "source": [
    "8. You probably know the \"like\" system from Facebook and other pages. People can \"like\" blog posts, pictures or other items. We want to create the text that should be displayed next to such an item.\n",
    "\n",
    "Implement a function likes :: [String] -> String, which must take in input array, containing the names of people who like an item. It must return the display text as shown in the examples:\n",
    "```\n",
    "likes [] // must be \"no one likes this\"\n",
    "likes [\"Peter\"] // must be \"Peter likes this\"\n",
    "likes [\"Jacob\", \"Alex\"] // must be \"Jacob and Alex like this\"\n",
    "likes [\"Max\", \"John\", \"Mark\"] // must be \"Max, John and Mark like this\"\n",
    "likes [\"Alex\", \"Jacob\", \"Mark\", \"Max\"] // must be \"Alex, Jacob and 2 others like this\"\n",
    "```\n",
    "For 4 or more names, the number in and 2 others simply increases."
   ]
  },
  {
   "cell_type": "code",
   "execution_count": null,
   "metadata": {
    "colab": {
     "base_uri": "https://localhost:8080/",
     "height": 85
    },
    "colab_type": "code",
    "id": "VB4H0PedhdlQ",
    "outputId": "acae0c79-b97e-4a25-fda2-35492a7581b4"
   },
   "outputs": [],
   "source": [
    "def likes(list):\n",
    "  if len(list) == 1:\n",
    "    return \"{} likes this\".format(list[0])\n",
    "  elif len(list) == 2:\n",
    "    return \"{} and {} like this\".format(list[0], list[1])\n",
    "  elif len(list) == 3:\n",
    "    return \"{}, {}, and {} like this\".format(list[0], list[1], list[2])\n",
    "  elif len(list) > 3:\n",
    "    return \"{}, {}, and {} others like this\".format(list[0], list[1], len(list)-2)\n",
    "  else:\n",
    "    return \"no one likes this\"\n",
    "      \n",
    "strings = [[], [\"Jacob\", \"Alex\"], [\"Max\", \"John\", \"Mark\"], [\"Alex\", \"Jacob\", \"Mark\", \"Max\"]]\n",
    "for string in strings:\n",
    "  facebook(string)"
   ]
  },
  {
   "cell_type": "markdown",
   "metadata": {
    "colab_type": "text",
    "id": "aWLq7nZ100iW"
   },
   "source": [
    "9. In this kata you are required to, given a string, replace every letter with its position in the alphabet.\n",
    "\n",
    "If anything in the text isn't a letter, ignore it and don't return it.\n",
    "\n",
    "\"a\" = 1, \"b\" = 2, etc.\n",
    "\n",
    "```\n",
    "alphabet_position(\"The sunset sets at twelve o' clock.\")\n",
    "\n",
    "Should return \"20 8 5 19 21 14 19 5 20 19 5 20 19 1 20 20 23 5 12 22 5 15 3 12 15 3 11\" (as a string)\n",
    "\n",
    "\n",
    "```"
   ]
  },
  {
   "cell_type": "code",
   "execution_count": null,
   "metadata": {
    "colab": {
     "base_uri": "https://localhost:8080/",
     "height": 34
    },
    "colab_type": "code",
    "id": "sEhcN_ua0zs0",
    "outputId": "65377c01-7ae8-49c9-86a8-78abacc5f899"
   },
   "outputs": [],
   "source": [
    "from string import ascii_lowercase\n",
    "\n",
    "def alphabet_position(text):\n",
    "  text = text.lower()\n",
    "  \n",
    "  dictt = {}\n",
    "  # create dictionary of letters to numbers\n",
    "  for position, letter in enumerate(ascii_lowercase, 1):\n",
    "    dictt[letter] = str(position)\n",
    " \n",
    "  numbers = []\n",
    "  # loop through text\n",
    "  for char in text: \n",
    "    if char in dictt:\n",
    "      numbers.append(dictt[char])\n",
    "  return ' '.join(numbers)\n",
    "      \n",
    "\n",
    "alphabet_position(\"The sunset sets at twelve o' clock.\")\n"
   ]
  },
  {
   "cell_type": "code",
   "execution_count": null,
   "metadata": {
    "colab": {},
    "colab_type": "code",
    "id": "nOduRnAy8YNF"
   },
   "outputs": [],
   "source": [
    "def alphabet_position(text):\n",
    "    return ' '.join(str(ord(c) - 96) for c in text.lower() if c.isalpha())"
   ]
  },
  {
   "cell_type": "markdown",
   "metadata": {},
   "source": [
    "10. You need to write regex that will validate a password to make sure it meets the following criteria:\n",
    "\n",
    "At least six characters long\n",
    "contains a lowercase letter\n",
    "contains an uppercase letter\n",
    "contains a number\n",
    "Valid passwords will only be alphanumeric characters."
   ]
  },
  {
   "cell_type": "code",
   "execution_count": null,
   "metadata": {},
   "outputs": [],
   "source": [
    "from re import compile, VERBOSE\n",
    "\n",
    "regex = compile(\"\"\"\n",
    "^              # begin word\n",
    "(?=.*[a-z])    # at least one lowercase letter\n",
    "(?=.*[A-Z])    # at least one uppercase letter\n",
    "(?=.*[0-9])    # at least one number\n",
    "[0-9a-zA-Z]    # only alphanumeric\n",
    "{6,}           # at least 6 characters long\n",
    "$              # end word\n",
    "\"\"\", VERBOSE)"
   ]
  },
  {
   "cell_type": "markdown",
   "metadata": {},
   "source": [
    "11. \n",
    "We want to create a function that will add numbers together when called in succession.\n",
    "\n",
    "add(1)(2);\n",
    "// returns 3\n",
    "We also want to be able to continue to add numbers to our chain.\n",
    "\n",
    "add(1)(2)(3); // 6\n",
    "add(1)(2)(3)(4); // 10\n",
    "add(1)(2)(3)(4)(5); // 15\n",
    "and so on.\n",
    "\n",
    "A single call should return the number passed in.\n",
    "\n",
    "add(1); // 1\n",
    "We should be able to store the returned values and reuse them.\n",
    "\n",
    "var addTwo = add(2);\n",
    "addTwo; // 2\n",
    "addTwo + 5; // 7\n",
    "addTwo(3); // 5\n",
    "addTwo(3)(5); // 10\n",
    "We can assume any number being passed in will be valid whole number."
   ]
  },
  {
   "cell_type": "code",
   "execution_count": null,
   "metadata": {},
   "outputs": [],
   "source": [
    "class add(int):\n",
    "    def __call__(self,n):\n",
    "        return add(self+n)\n",
    "\n",
    "print(add(1))\n",
    "print(add(1)(2))\n",
    "print(add(1)(2))"
   ]
  },
  {
   "cell_type": "markdown",
   "metadata": {},
   "source": [
    "Next bigger number with the same digits\n",
    "\n",
    "You have to create a function that takes a positive integer number and returns the next bigger number formed by the same digits:\n",
    "\n",
    "```\n",
    "12 ==> 21\n",
    "513 ==> 531\n",
    "2017 ==> 2071\n",
    "```\n",
    "\n",
    "If no bigger number can be composed using those digits, return -1:\n",
    "\n",
    "```\n",
    "9 ==> -1\n",
    "111 ==> -1\n",
    "531 ==> -1\n",
    "```"
   ]
  },
  {
   "cell_type": "code",
   "execution_count": null,
   "metadata": {},
   "outputs": [],
   "source": [
    "import itertools\n",
    "\n",
    "def next_bigger(n):\n",
    "    \n",
    "    # split up numbers into a list\n",
    "    num = str(n)\n",
    "    \n",
    "    # permutations(iterable[,num of permutations])\n",
    "    # this returns [('1', '2', '3'), ('1', '3', '2')...]\n",
    "    perms = itertools.permutations(num, len(num))\n",
    "    \n",
    "    # join back the numbers into a list of perms\n",
    "    # this returns [123, 132,...]\n",
    "    list_perms = [int(''.join(nums)) for nums in perms]\n",
    "    \n",
    "    # remove duplicates\n",
    "    # this returns a set {123, 132,...}\n",
    "    set_perms = set(list_perms)\n",
    "    \n",
    "    # switch to list\n",
    "    list_perms = list(set_perms)\n",
    "    \n",
    "    # sort\n",
    "    # this is important, because the first number as indexed is the original\n",
    "    # and the next number will have to be the next highest!\n",
    "    # if there's no number after that, return -1\n",
    "    list_perms = sorted(list_perms)\n",
    "    \n",
    "    # try this that might throw an exception\n",
    "    # reference n, not num! \n",
    "    try: \n",
    "        return (list_perms[list_perms.index(n)+1])\n",
    "    except Exception:\n",
    "        return -1 "
   ]
  },
  {
   "cell_type": "code",
   "execution_count": null,
   "metadata": {},
   "outputs": [],
   "source": [
    "next_bigger(12354)\n",
    "#next_bigger(11)"
   ]
  },
  {
   "cell_type": "code",
   "execution_count": null,
   "metadata": {},
   "outputs": [],
   "source": [
    "next_bigger(414)"
   ]
  },
  {
   "cell_type": "code",
   "execution_count": 4,
   "metadata": {},
   "outputs": [],
   "source": [
    "def next_bigger(n):\n",
    "    \n",
    "    # ['4', '1', '4']\n",
    "    num = list(str(n))\n",
    "    \n",
    "    # get length without last digit, 2\n",
    "    length = len(num[:-1])\n",
    "    \n",
    "    # range(start, stop[,step])\n",
    "    range(0, length)     # range(0,2)\n",
    "    \n",
    "    # reverse it\n",
    "    reversed(range(0, length)) # 1, 0\n",
    "     \n",
    "    # start looping\n",
    "    for i in reversed(range(0, length)):       # loops thru 1, 0\n",
    "        for j in reversed(range(i, len(num))): # first loops thru 2, 1 \n",
    "            # this is the best case, just swap and you're done\n",
    "            if num[i] < num[j]:                # num[1] < num[2]\n",
    "                num[i], num[j] = num[j], num[i] # ['4', '4', '1']\n",
    "                \n",
    "                # I'm not sure what this is for but it is critical\n",
    "                num[i + 1:] = sorted(num[i + 1:])\n",
    "                return int(''.join(num))\n",
    "    return -1\n",
    "  "
   ]
  },
  {
   "cell_type": "code",
   "execution_count": 6,
   "metadata": {},
   "outputs": [
    {
     "data": {
      "text/plain": [
       "1234568079"
      ]
     },
     "execution_count": 6,
     "metadata": {},
     "output_type": "execute_result"
    }
   ],
   "source": [
    "next_bigger(1234567980)\n",
    "# answer should be 1234569780"
   ]
  },
  {
   "cell_type": "code",
   "execution_count": null,
   "metadata": {},
   "outputs": [],
   "source": [
    "n = 414\n",
    "num = list(str(n))"
   ]
  },
  {
   "cell_type": "code",
   "execution_count": null,
   "metadata": {},
   "outputs": [],
   "source": [
    "num[:-1]\n",
    "range(len(num[:-1]))"
   ]
  },
  {
   "cell_type": "code",
   "execution_count": null,
   "metadata": {},
   "outputs": [],
   "source": [
    "for i in reversed(range(1, len(num))):\n",
    "    print(i)"
   ]
  },
  {
   "cell_type": "code",
   "execution_count": null,
   "metadata": {},
   "outputs": [],
   "source": [
    "i = 1\n",
    "j = 2\n"
   ]
  },
  {
   "cell_type": "code",
   "execution_count": null,
   "metadata": {},
   "outputs": [],
   "source": [
    "num[i], num[j] = num[j], num[i]\n",
    "num"
   ]
  },
  {
   "cell_type": "code",
   "execution_count": null,
   "metadata": {},
   "outputs": [],
   "source": [
    "sorted(num[i + 1:])\n",
    "num[i + 1:]"
   ]
  }
 ],
 "metadata": {
  "colab": {
   "collapsed_sections": [],
   "name": "CodeWars.ipynb",
   "provenance": []
  },
  "kernelspec": {
   "display_name": "Python 3",
   "language": "python",
   "name": "python3"
  },
  "language_info": {
   "codemirror_mode": {
    "name": "ipython",
    "version": 3
   },
   "file_extension": ".py",
   "mimetype": "text/x-python",
   "name": "python",
   "nbconvert_exporter": "python",
   "pygments_lexer": "ipython3",
   "version": "3.7.4"
  }
 },
 "nbformat": 4,
 "nbformat_minor": 1
}
