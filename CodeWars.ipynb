{
 "cells": [
  {
   "cell_type": "markdown",
   "metadata": {},
   "source": [
    "## CodeWar Practice Questions\n",
    "The first function is my attempt, the second function is a more efficient solution to learn from. "
   ]
  },
  {
   "cell_type": "markdown",
   "metadata": {
    "colab_type": "text",
    "id": "msEpds_UZkc2"
   },
   "source": [
    "1. An isogram is a word that has no repeating letters, consecutive or non-consecutive. Implement a function that determines whether a string that contains only letters is an isogram. Assume the empty string is an isogram. Ignore letter case.\n",
    "\n",
    "```\n",
    "is_isogram(\"Dermatoglyphics\" ) == true\n",
    "is_isogram(\"aba\" ) == false\n",
    "is_isogram(\"moOse\" ) == false # -- ignore letter case\n",
    "```\n",
    "\n",
    "\n",
    "\n"
   ]
  },
  {
   "cell_type": "code",
   "execution_count": null,
   "metadata": {
    "colab": {},
    "colab_type": "code",
    "id": "VdYFhWJFZhTb"
   },
   "outputs": [],
   "source": [
    "def is_isogram(string):\n",
    "    # transform to lower-case\n",
    "    string = string.lower()\n",
    "    \n",
    "    # split string into list of characters\n",
    "    # ['a', 'b', 'a']\n",
    "    list_all = list(string)\n",
    "    \n",
    "    # create list for unique only values\n",
    "    # set returns a set\n",
    "    # {'a', 'b'}\n",
    "    list_set = set(list_all)\n",
    "    \n",
    "    # compare lengths\n",
    "    if len(list_all) == len(list_set):\n",
    "      return True\n",
    "    else:\n",
    "      return False"
   ]
  },
  {
   "cell_type": "code",
   "execution_count": null,
   "metadata": {
    "colab": {},
    "colab_type": "code",
    "id": "NyaOF3SaaOM7"
   },
   "outputs": [],
   "source": [
    "def is_isogram(string):\n",
    "    return len(string) == len(set(string.lower()))"
   ]
  },
  {
   "cell_type": "markdown",
   "metadata": {
    "colab_type": "text",
    "id": "2E4iJqFnalV4"
   },
   "source": [
    "2. Write a function that will return the count of distinct case-insensitive alphabetic characters and numeric digits that occur more than once in the input string. The input string can be assumed to contain only alphabets (both uppercase and lowercase) and numeric digits.\n",
    "\n",
    "```\n",
    "\"abcde\" -> 0 # no characters repeats more than once\n",
    "\"aabbcde\" -> 2 # 'a' and 'b'\n",
    "\"aabBcde\" -> 2 # 'a' occurs twice and 'b' twice (`b` and `B`)\n",
    "\"indivisibility\" -> 1 # 'i' occurs six times\n",
    "\"Indivisibilities\" -> 2 # 'i' occurs seven times and 's' occurs twice\n",
    "\"aA11\" -> 2 # 'a' and '1'\n",
    "\"ABBA\" -> 2 # 'A' and 'B' each occur twice\n",
    "```"
   ]
  },
  {
   "cell_type": "code",
   "execution_count": null,
   "metadata": {
    "colab": {
     "base_uri": "https://localhost:8080/",
     "height": 34
    },
    "colab_type": "code",
    "id": "6DSfFlOramll",
    "outputId": "8cfc8a4d-cd6b-47e8-ec3b-f264a1ba2d59"
   },
   "outputs": [],
   "source": [
    "def duplicate_count(text):\n",
    "   \n",
    "    counter = 0\n",
    "    \n",
    "    # unique only\n",
    "    for char in set(text.lower()):\n",
    "      # reference back to original text\n",
    "      if text.lower().count(char) > 1:\n",
    "        counter += 1\n",
    "         \n",
    "    return counter\n",
    "    \n",
    "    \n",
    "duplicate_count(\"Indivisibilities\")"
   ]
  },
  {
   "cell_type": "code",
   "execution_count": null,
   "metadata": {
    "colab": {},
    "colab_type": "code",
    "id": "6eeubIglfcLJ"
   },
   "outputs": [],
   "source": [
    "def duplicate_count(s):\n",
    "  return len([c for c in set(s.lower()) if s.lower().count(c)>1])"
   ]
  },
  {
   "cell_type": "markdown",
   "metadata": {
    "colab_type": "text",
    "id": "p8ctf39ngP9j"
   },
   "source": [
    "3. You are given an array (which will have a length of at least 3, but could be very large) containing integers. The array is either entirely comprised of odd integers or entirely comprised of even integers except for a single integer N. Write a method that takes the array as an argument and returns this \"outlier\" N.\n",
    "\n",
    "```\n",
    "[2, 4, 0, 100, 4, 11, 2602, 36]\n",
    "Should return: 11 (the only odd number)\n",
    "\n",
    "[160, 3, 1719, 19, 11, 13, -21]\n",
    "Should return: 160 (the only even number)\n",
    "```"
   ]
  },
  {
   "cell_type": "code",
   "execution_count": null,
   "metadata": {
    "colab": {},
    "colab_type": "code",
    "id": "L5K39oTJkhTj"
   },
   "outputs": [],
   "source": [
    "def find_outlier(integers):"
   ]
  },
  {
   "cell_type": "code",
   "execution_count": null,
   "metadata": {
    "colab": {
     "base_uri": "https://localhost:8080/",
     "height": 34
    },
    "colab_type": "code",
    "id": "k-npA2vIgXnO",
    "outputId": "c8b313a4-1d36-4990-fc63-77cdfe7bc6aa"
   },
   "outputs": [],
   "source": [
    "def find_outlier(integers):\n",
    "    # look at first three integers\n",
    "    integers_3 = integers[:3]\n",
    "    \n",
    "    counter = 0 \n",
    "    for int in integers_3:\n",
    "      # even even odd 1 1 0 = 2\n",
    "      # odd odd even 0 0 1 = 1   \n",
    "      # even even even 1 1 1 = 3\n",
    "      # odd odd odd 0 0 0 0 = 0\n",
    "      # odds = 1 or 0\n",
    "      if int % 2 == 0:\n",
    "        counter += 1\n",
    "        \n",
    "    if counter < 2:\n",
    "      # this list is mostly odd, find the even num\n",
    "      for int in integers:\n",
    "        if int % 2 == 0:\n",
    "          return int\n",
    "    else:\n",
    "      # this list is mostly even, find the odd num\n",
    "      for int in integers:\n",
    "        if int % 2 !=0:\n",
    "          return int\n",
    "        \n",
    "\n",
    "\n",
    "find_outlier([-5644261, -7248367, -9456417, 7493719, -3808089, 6699999, 4786661, -2797105, 1708991, 275625, 9400393, 5126547, 7664511, 270011, -8898253, -1138321, 9008097, -3099845, -7034535, -5984917, 9536781, -2769289, 6101661, -8631873, -4353553, 4761629, 4863925, 8620137, 624663, -9144755, 6692423, -6620675, -7036312, 1624741, -1262359, 1704413, -4935053, 8608761, 115765, 7646039])"
   ]
  },
  {
   "cell_type": "code",
   "execution_count": null,
   "metadata": {
    "colab": {
     "base_uri": "https://localhost:8080/",
     "height": 34
    },
    "colab_type": "code",
    "id": "z2z3VEFtpjP3",
    "outputId": "225a42be-0c10-4680-846e-8e7391b04772"
   },
   "outputs": [],
   "source": [
    "def find_outlier(int):\n",
    "    odds = [x for x in int if x % 2 != 0]\n",
    "    evens = [x for x in int if x % 2 == 0]\n",
    "    return odds[0] if len(odds) < len(evens) else evens[0]\n",
    "\n",
    "find_outlier([-5644261, -7248367, -9456417, 7493719, -3808089, 6699999, 4786661, -2797105, 1708991, 275625, 9400393, 5126547, 7664511, 270011, -8898253, -1138321, 9008097, -3099845, -7034535, -5984917, 9536781, -2769289, 6101661, -8631873, -4353553, 4761629, 4863925, 8620137, 624663, -9144755, 6692423, -6620675, -7036312, 1624741, -1262359, 1704413, -4935053, 8608761, 115765, 7646039])"
   ]
  },
  {
   "cell_type": "markdown",
   "metadata": {
    "colab_type": "text",
    "id": "zdrB26DZiiWR"
   },
   "source": [
    "4. Write a function that takes a string of braces, and determines if the order of the braces is valid. It should return true if the string is valid, and false if it's invalid.\n",
    "\n",
    "This Kata is similar to the Valid Parentheses Kata, but introduces new characters: brackets [], and curly braces {}. Thanks to @arnedag for the idea!\n",
    "\n",
    "All input strings will be nonempty, and will only consist of parentheses, brackets and curly braces: ()[]{}.\n",
    "\n",
    "```\n",
    "\"(){}[]\"   =>  True\n",
    "\"([{}])\"   =>  True\n",
    "\"(}\"       =>  False\n",
    "\"[(])\"     =>  False\n",
    "\"[({})](]\" =>  False\n",
    "```"
   ]
  },
  {
   "cell_type": "code",
   "execution_count": null,
   "metadata": {
    "colab": {
     "base_uri": "https://localhost:8080/",
     "height": 102
    },
    "colab_type": "code",
    "id": "qPpvAFTBifs4",
    "outputId": "89d77b1a-887a-4cd7-d56f-48868893b990"
   },
   "outputs": [],
   "source": [
    "def validBraces(string):\n",
    "  copy = string\n",
    "  \n",
    "  for char in range(len(copy)//2):\n",
    "    copy = copy.replace(\"{}\", \"\").replace(\"[]\", \"\").replace(\"()\", \"\")\n",
    "    \n",
    "  return len(copy) == 0\n",
    "\n",
    "strings = [\"(){}[]\", \"([{}])\", \"(}\", \"[(])\", \"[({})](]\"]\n",
    "for string in strings:\n",
    "  print(string, validBraces(string))\n"
   ]
  },
  {
   "cell_type": "markdown",
   "metadata": {
    "colab_type": "text",
    "id": "lFY9b_jDpccL"
   },
   "source": [
    "5. Move the first letter of each word to the end of it, then add \"ay\" to the end of the word. Leave punctuation marks untouched.\n",
    "\n",
    "```\n",
    "pig_it('Pig latin is cool') # igPay atinlay siay oolcay\n",
    "pig_it('Hello world !')     # elloHay orldway !\n",
    "```"
   ]
  },
  {
   "cell_type": "code",
   "execution_count": null,
   "metadata": {
    "colab": {
     "base_uri": "https://localhost:8080/",
     "height": 51
    },
    "colab_type": "code",
    "id": "CzOQNDY9qHBQ",
    "outputId": "6feff3fb-0b3b-49a5-e0ac-ea0cbf56f575"
   },
   "outputs": [],
   "source": [
    "def pig_it(text):\n",
    "  \n",
    "  # split each word into a list\n",
    "  text = text.split()\n",
    "  \n",
    "  new_text = []\n",
    "  for word in text:   \n",
    "    if word.isalpha() == True:\n",
    "      new = word[1:] + word[0] + \"ay\"\n",
    "      new_text.append(new)\n",
    "    else:\n",
    "      new_text.append(word)\n",
    "  \n",
    "  return \" \".join(new_text)\n",
    "\n",
    "\n",
    "strings = ['Pig latin is cool', 'Hello world !']\n",
    "for string in strings:\n",
    "  print(pig_it(string))"
   ]
  },
  {
   "cell_type": "code",
   "execution_count": null,
   "metadata": {
    "colab": {},
    "colab_type": "code",
    "id": "b9CVNaSmvJ81"
   },
   "outputs": [],
   "source": [
    "def pig_it(text):\n",
    "    lst = text.split()\n",
    "    return ' '.join( [word[1:] + word[:1] + 'ay' if word.isalpha() else word for word in lst])"
   ]
  },
  {
   "cell_type": "markdown",
   "metadata": {
    "colab_type": "text",
    "id": "GhSARcRmpbru"
   },
   "source": [
    "6. Write a function that takes an integer as input, and returns the number of bits that are equal to one in the binary representation of that number. You can guarantee that input is non-negative.\n",
    "\n",
    "```\n",
    "The binary representation of 1234 is 10011010010, so the function should return 5 in this case\n",
    "```"
   ]
  },
  {
   "cell_type": "code",
   "execution_count": null,
   "metadata": {
    "colab": {},
    "colab_type": "code",
    "id": "wqkUWh42vgpj"
   },
   "outputs": [],
   "source": [
    "def countBits(n):\n",
    "  binary = bin(n)\n",
    "  count = 0\n",
    "  for num in binary:\n",
    "    if num == '1':\n",
    "      count +=1\n",
    "  return count\n",
    "  \n",
    "countBits(1234)"
   ]
  },
  {
   "cell_type": "code",
   "execution_count": null,
   "metadata": {
    "colab": {},
    "colab_type": "code",
    "id": "DRejz8xMwyfI"
   },
   "outputs": [],
   "source": [
    "def countBits(n):\n",
    "    return bin(n).count(\"1\")"
   ]
  },
  {
   "cell_type": "markdown",
   "metadata": {
    "colab_type": "text",
    "id": "OC5KtO2PyGtU"
   },
   "source": [
    "7. If we list all the natural numbers below 10 that are multiples of 3 or 5, we get 3, 5, 6 and 9. The sum of these multiples is 23.\n",
    "\n",
    "Finish the solution so that it returns the sum of all the multiples of 3 or 5 below the number passed in.\n",
    "\n",
    "Note: If the number is a multiple of both 3 and 5, only count it once."
   ]
  },
  {
   "cell_type": "code",
   "execution_count": null,
   "metadata": {
    "colab": {
     "base_uri": "https://localhost:8080/",
     "height": 34
    },
    "colab_type": "code",
    "id": "YJwIRzjHw_ZS",
    "outputId": "1e50c40f-5c17-4c82-cec4-576f0e43f6d8"
   },
   "outputs": [],
   "source": [
    "def solution(number):\n",
    "  sum = 0\n",
    "  for x in range(number):\n",
    "    if ((x % 3 == 0) & (x % 5== 0)):\n",
    "      sum += x\n",
    "    elif x % 3 == 0:\n",
    "      sum += x\n",
    "    elif x % 5 == 0:\n",
    "      sum += x\n",
    "     \n",
    "  return sum  \n",
    "\n",
    "solution(10)"
   ]
  },
  {
   "cell_type": "code",
   "execution_count": null,
   "metadata": {
    "colab": {},
    "colab_type": "code",
    "id": "01-NdW0a3CSw"
   },
   "outputs": [],
   "source": [
    "def solution(number):\n",
    "    return sum(x for x in range(number) if x % 3 == 0 or x % 5 == 0)"
   ]
  },
  {
   "cell_type": "markdown",
   "metadata": {
    "colab_type": "text",
    "id": "fW5gXQE7hd1h"
   },
   "source": [
    "8. You probably know the \"like\" system from Facebook and other pages. People can \"like\" blog posts, pictures or other items. We want to create the text that should be displayed next to such an item.\n",
    "\n",
    "Implement a function likes :: [String] -> String, which must take in input array, containing the names of people who like an item. It must return the display text as shown in the examples:\n",
    "```\n",
    "likes [] // must be \"no one likes this\"\n",
    "likes [\"Peter\"] // must be \"Peter likes this\"\n",
    "likes [\"Jacob\", \"Alex\"] // must be \"Jacob and Alex like this\"\n",
    "likes [\"Max\", \"John\", \"Mark\"] // must be \"Max, John and Mark like this\"\n",
    "likes [\"Alex\", \"Jacob\", \"Mark\", \"Max\"] // must be \"Alex, Jacob and 2 others like this\"\n",
    "```\n",
    "For 4 or more names, the number in and 2 others simply increases."
   ]
  },
  {
   "cell_type": "code",
   "execution_count": null,
   "metadata": {
    "colab": {
     "base_uri": "https://localhost:8080/",
     "height": 85
    },
    "colab_type": "code",
    "id": "VB4H0PedhdlQ",
    "outputId": "acae0c79-b97e-4a25-fda2-35492a7581b4"
   },
   "outputs": [],
   "source": [
    "def likes(list):\n",
    "  if len(list) == 1:\n",
    "    return \"{} likes this\".format(list[0])\n",
    "  elif len(list) == 2:\n",
    "    return \"{} and {} like this\".format(list[0], list[1])\n",
    "  elif len(list) == 3:\n",
    "    return \"{}, {}, and {} like this\".format(list[0], list[1], list[2])\n",
    "  elif len(list) > 3:\n",
    "    return \"{}, {}, and {} others like this\".format(list[0], list[1], len(list)-2)\n",
    "  else:\n",
    "    return \"no one likes this\"\n",
    "      \n",
    "strings = [[], [\"Jacob\", \"Alex\"], [\"Max\", \"John\", \"Mark\"], [\"Alex\", \"Jacob\", \"Mark\", \"Max\"]]\n",
    "for string in strings:\n",
    "  facebook(string)"
   ]
  },
  {
   "cell_type": "markdown",
   "metadata": {
    "colab_type": "text",
    "id": "aWLq7nZ100iW"
   },
   "source": [
    "9. In this kata you are required to, given a string, replace every letter with its position in the alphabet.\n",
    "\n",
    "If anything in the text isn't a letter, ignore it and don't return it.\n",
    "\n",
    "\"a\" = 1, \"b\" = 2, etc.\n",
    "\n",
    "```\n",
    "alphabet_position(\"The sunset sets at twelve o' clock.\")\n",
    "\n",
    "Should return \"20 8 5 19 21 14 19 5 20 19 5 20 19 1 20 20 23 5 12 22 5 15 3 12 15 3 11\" (as a string)\n",
    "\n",
    "\n",
    "```"
   ]
  },
  {
   "cell_type": "code",
   "execution_count": null,
   "metadata": {
    "colab": {
     "base_uri": "https://localhost:8080/",
     "height": 34
    },
    "colab_type": "code",
    "id": "sEhcN_ua0zs0",
    "outputId": "65377c01-7ae8-49c9-86a8-78abacc5f899"
   },
   "outputs": [],
   "source": [
    "from string import ascii_lowercase\n",
    "\n",
    "def alphabet_position(text):\n",
    "  text = text.lower()\n",
    "  \n",
    "  dictt = {}\n",
    "  # create dictionary of letters to numbers\n",
    "  for position, letter in enumerate(ascii_lowercase, 1):\n",
    "    dictt[letter] = str(position)\n",
    " \n",
    "  numbers = []\n",
    "  # loop through text\n",
    "  for char in text: \n",
    "    if char in dictt:\n",
    "      numbers.append(dictt[char])\n",
    "  return ' '.join(numbers)\n",
    "      \n",
    "\n",
    "alphabet_position(\"The sunset sets at twelve o' clock.\")\n"
   ]
  },
  {
   "cell_type": "code",
   "execution_count": null,
   "metadata": {
    "colab": {},
    "colab_type": "code",
    "id": "nOduRnAy8YNF"
   },
   "outputs": [],
   "source": [
    "def alphabet_position(text):\n",
    "    return ' '.join(str(ord(c) - 96) for c in text.lower() if c.isalpha())"
   ]
  },
  {
   "cell_type": "markdown",
   "metadata": {},
   "source": [
    "10. You need to write regex that will validate a password to make sure it meets the following criteria:\n",
    "\n",
    "At least six characters long\n",
    "contains a lowercase letter\n",
    "contains an uppercase letter\n",
    "contains a number\n",
    "Valid passwords will only be alphanumeric characters."
   ]
  },
  {
   "cell_type": "code",
   "execution_count": null,
   "metadata": {},
   "outputs": [],
   "source": [
    "from re import compile, VERBOSE\n",
    "\n",
    "regex = compile(\"\"\"\n",
    "^              # begin word\n",
    "(?=.*[a-z])    # at least one lowercase letter\n",
    "(?=.*[A-Z])    # at least one uppercase letter\n",
    "(?=.*[0-9])    # at least one number\n",
    "[0-9a-zA-Z]    # only alphanumeric\n",
    "{6,}           # at least 6 characters long\n",
    "$              # end word\n",
    "\"\"\", VERBOSE)"
   ]
  },
  {
   "cell_type": "markdown",
   "metadata": {},
   "source": [
    "11. \n",
    "We want to create a function that will add numbers together when called in succession.\n",
    "\n",
    "add(1)(2);\n",
    "// returns 3\n",
    "We also want to be able to continue to add numbers to our chain.\n",
    "\n",
    "add(1)(2)(3); // 6\n",
    "add(1)(2)(3)(4); // 10\n",
    "add(1)(2)(3)(4)(5); // 15\n",
    "and so on.\n",
    "\n",
    "A single call should return the number passed in.\n",
    "\n",
    "add(1); // 1\n",
    "We should be able to store the returned values and reuse them.\n",
    "\n",
    "var addTwo = add(2);\n",
    "addTwo; // 2\n",
    "addTwo + 5; // 7\n",
    "addTwo(3); // 5\n",
    "addTwo(3)(5); // 10\n",
    "We can assume any number being passed in will be valid whole number."
   ]
  },
  {
   "cell_type": "code",
   "execution_count": null,
   "metadata": {},
   "outputs": [],
   "source": [
    "class add(int):\n",
    "    def __call__(self,n):\n",
    "        return add(self+n)\n",
    "\n",
    "print(add(1))\n",
    "print(add(1)(2))\n",
    "print(add(1)(2))"
   ]
  },
  {
   "cell_type": "markdown",
   "metadata": {},
   "source": [
    " 12.Next bigger number with the same digits\n",
    "\n",
    "You have to create a function that takes a positive integer number and returns the next bigger number formed by the same digits:\n",
    "\n",
    "```\n",
    "12 ==> 21\n",
    "513 ==> 531\n",
    "2017 ==> 2071\n",
    "```\n",
    "\n",
    "If no bigger number can be composed using those digits, return -1:\n",
    "\n",
    "```\n",
    "9 ==> -1\n",
    "111 ==> -1\n",
    "531 ==> -1\n",
    "```"
   ]
  },
  {
   "cell_type": "code",
   "execution_count": null,
   "metadata": {},
   "outputs": [],
   "source": [
    "import itertools\n",
    "\n",
    "def next_bigger(n):\n",
    "    \n",
    "    # split up numbers into a list\n",
    "    num = str(n)\n",
    "    \n",
    "    # permutations(iterable[,num of permutations])\n",
    "    # this returns [('1', '2', '3'), ('1', '3', '2')...]\n",
    "    perms = itertools.permutations(num, len(num))\n",
    "    \n",
    "    # join back the numbers into a list of perms\n",
    "    # this returns [123, 132,...]\n",
    "    list_perms = [int(''.join(nums)) for nums in perms]\n",
    "    \n",
    "    # remove duplicates\n",
    "    # this returns a set {123, 132,...}\n",
    "    set_perms = set(list_perms)\n",
    "    \n",
    "    # switch to list\n",
    "    list_perms = list(set_perms)\n",
    "    \n",
    "    # sort\n",
    "    # this is important, because the first number as indexed is the original\n",
    "    # and the next number will have to be the next highest!\n",
    "    # if there's no number after that, return -1\n",
    "    list_perms = sorted(list_perms)\n",
    "    \n",
    "    # try this that might throw an exception\n",
    "    # reference n, not num! \n",
    "    try: \n",
    "        return (list_perms[list_perms.index(n)+1])\n",
    "    except Exception:\n",
    "        return -1 "
   ]
  },
  {
   "cell_type": "code",
   "execution_count": null,
   "metadata": {},
   "outputs": [],
   "source": [
    "next_bigger(12354)\n",
    "#next_bigger(11)"
   ]
  },
  {
   "cell_type": "code",
   "execution_count": null,
   "metadata": {},
   "outputs": [],
   "source": [
    "next_bigger(414)"
   ]
  },
  {
   "cell_type": "code",
   "execution_count": 4,
   "metadata": {},
   "outputs": [],
   "source": [
    "def next_bigger(n):\n",
    "    \n",
    "    # ['4', '1', '4']\n",
    "    num = list(str(n))\n",
    "    \n",
    "    # get length without last digit, 2\n",
    "    length = len(num[:-1])\n",
    "    \n",
    "    # range(start, stop[,step])\n",
    "    range(0, length)     # range(0,2)\n",
    "    \n",
    "    # reverse it\n",
    "    reversed(range(0, length)) # 1, 0\n",
    "     \n",
    "    # start looping\n",
    "    for i in reversed(range(0, length)):       # loops thru 1, 0\n",
    "        for j in reversed(range(i, len(num))): # first loops thru 2, 1 \n",
    "            # this is the best case, just swap and you're done\n",
    "            if num[i] < num[j]:                # num[1] < num[2]\n",
    "                num[i], num[j] = num[j], num[i] # ['4', '4', '1']\n",
    "                \n",
    "                # I'm not sure what this is for but it is critical\n",
    "                num[i + 1:] = sorted(num[i + 1:])\n",
    "                return int(''.join(num))\n",
    "    return -1\n",
    "  "
   ]
  },
  {
   "cell_type": "code",
   "execution_count": 6,
   "metadata": {},
   "outputs": [
    {
     "data": {
      "text/plain": [
       "1234568079"
      ]
     },
     "execution_count": 6,
     "metadata": {},
     "output_type": "execute_result"
    }
   ],
   "source": [
    "next_bigger(1234567980)\n",
    "# answer should be 1234569780"
   ]
  },
  {
   "cell_type": "code",
   "execution_count": null,
   "metadata": {},
   "outputs": [],
   "source": [
    "n = 414\n",
    "num = list(str(n))"
   ]
  },
  {
   "cell_type": "code",
   "execution_count": null,
   "metadata": {},
   "outputs": [],
   "source": [
    "num[:-1]\n",
    "range(len(num[:-1]))"
   ]
  },
  {
   "cell_type": "code",
   "execution_count": null,
   "metadata": {},
   "outputs": [],
   "source": [
    "for i in reversed(range(1, len(num))):\n",
    "    print(i)"
   ]
  },
  {
   "cell_type": "code",
   "execution_count": null,
   "metadata": {},
   "outputs": [],
   "source": [
    "i = 1\n",
    "j = 2\n"
   ]
  },
  {
   "cell_type": "code",
   "execution_count": null,
   "metadata": {},
   "outputs": [],
   "source": [
    "num[i], num[j] = num[j], num[i]\n",
    "num"
   ]
  },
  {
   "cell_type": "code",
   "execution_count": null,
   "metadata": {},
   "outputs": [],
   "source": [
    "sorted(num[i + 1:])\n",
    "num[i + 1:]"
   ]
  },
  {
   "cell_type": "markdown",
   "metadata": {},
   "source": [
    "13. PaginationHelper \n",
    "\n",
    "For this exercise you will be strengthening your page-fu mastery. You will complete the PaginationHelper class, which is a utility class helpful for querying paging information related to an array.\n",
    "\n",
    "The class is designed to take in an array of values and an integer indicating how many items will be allowed per each page. The types of values contained within the collection/array are not relevant.\n",
    "\n",
    "The following are some examples of how this class is used:\n",
    "\n",
    "```\n",
    "helper = PaginationHelper(['a','b','c','d','e','f'], 4)\n",
    "helper.page_count # should == 2\n",
    "helper.item_count # should == 6\n",
    "helper.page_item_count(0)  # should == 4\n",
    "helper.page_item_count(1) # last page - should == 2\n",
    "helper.page_item_count(2) # should == -1 since the page is invalid\n",
    "```\n",
    "\n",
    "page_ndex takes an item index and returns the page that it belongs on\n",
    "```\n",
    "helper.page_index(5) # should == 1 (zero based index)\n",
    "helper.page_index(2) # should == 0\n",
    "helper.page_index(20) # should == -1\n",
    "helper.page_index(-10) # should == -1 because negative indexes are invalid\n",
    "```"
   ]
  },
  {
   "cell_type": "code",
   "execution_count": 87,
   "metadata": {},
   "outputs": [],
   "source": [
    "from math import ceil, floor\n",
    "\n",
    "class PaginationHelper:\n",
    "\n",
    "  # The constructor takes in an array of items and a integer indicating\n",
    "  # how many items fit within a single page \n",
    "  def __init__(self, collection, items_per_page):\n",
    "    self.collection = collection\n",
    "    self.items_per_page = items_per_page\n",
    "      \n",
    "  # returns the number of items within the entire collection\n",
    "  def item_count(self):\n",
    "    return len(self.collection)\n",
    " \n",
    "  # returns the number of pages\n",
    "  # ceil returns the next highest integer not less than x \n",
    "  def page_count(self):\n",
    "    return ceil(self.item_count() / self.items_per_page)\n",
    "        \n",
    "  # returns the number of items on the current page. page_index is zero based\n",
    "  # this method should return -1 for page_index values that are out of range\n",
    "  def page_item_count(self, page_index):\n",
    "    \n",
    "    # regular page i.e. just return max num of items per page\n",
    "    if page_index+1 < self.page_count():\n",
    "        return self.items_per_page\n",
    "\n",
    "    # if it's the last page...\n",
    "    elif page_index+1 == self.page_count():\n",
    "        return (self.item_count() - (floor(self.item_count() / self.items_per_page)*self.items_per_page))\n",
    "    \n",
    "    # index out of bound\n",
    "    else:\n",
    "        return -1\n",
    "\n",
    "  # determines what page an item is on. Zero based indexes.\n",
    "  # this method should return -1 for item_index values that are out of range\n",
    "  def page_index(self, item_index):\n",
    "    if item_index < self.item_count():\n",
    "        return floor((item_index / self.items_per_page))\n",
    "    else:\n",
    "        return -1"
   ]
  },
  {
   "cell_type": "code",
   "execution_count": 88,
   "metadata": {},
   "outputs": [],
   "source": [
    "collection = range(1,25)\n",
    "helper = PaginationHelper(collection, 10)"
   ]
  },
  {
   "cell_type": "code",
   "execution_count": 89,
   "metadata": {},
   "outputs": [
    {
     "name": "stdout",
     "output_type": "stream",
     "text": [
      "3\n",
      "4\n",
      "24\n"
     ]
    }
   ],
   "source": [
    "print(helper.page_count())\n",
    "print(helper.page_item_count(2))\n",
    "print(helper.item_count())"
   ]
  },
  {
   "cell_type": "code",
   "execution_count": 92,
   "metadata": {},
   "outputs": [
    {
     "name": "stdout",
     "output_type": "stream",
     "text": [
      "2\n"
     ]
    }
   ],
   "source": [
    "# answer should be 2\n",
    "print(helper.page_index(23))"
   ]
  },
  {
   "cell_type": "markdown",
   "metadata": {},
   "source": [
    "14. A format for expressing an ordered list of integers is to use a comma separated list of either\n",
    "\n",
    "individual integers\n",
    "or a range of integers denoted by the starting integer separated from the end integer in the range by a dash, '-'. The range includes all integers in the interval including both endpoints. It is not considered a range unless it spans at least 3 numbers. For example (\"12, 13, 15-17\")\n",
    "Complete the solution so that it takes a list of integers in increasing order and returns a correctly formatted string in the range format.\n",
    "\n",
    "Example:\n",
    "```\n",
    "solution([-6, -3, -2, -1, 0, 1, 3, 4, 5, 7, 8, 9, 10, 11, 14, 15, 17, 18, 19, 20])\n",
    "# returns \"-6,-3-1,3-5,7-11,14,15,17-20\"\n",
    "```"
   ]
  },
  {
   "cell_type": "code",
   "execution_count": 30,
   "metadata": {},
   "outputs": [
    {
     "ename": "SyntaxError",
     "evalue": "'yield' outside function (<ipython-input-30-810dae21cc1f>, line 14)",
     "output_type": "error",
     "traceback": [
      "\u001b[0;36m  File \u001b[0;32m\"<ipython-input-30-810dae21cc1f>\"\u001b[0;36m, line \u001b[0;32m14\u001b[0m\n\u001b[0;31m    yield f\"{r[0]}-{r[-1]}\"\u001b[0m\n\u001b[0m    ^\u001b[0m\n\u001b[0;31mSyntaxError\u001b[0m\u001b[0;31m:\u001b[0m 'yield' outside function\n"
     ]
    }
   ],
   "source": [
    "from operator import itemgetter\n",
    "from itertools import groupby\n",
    "\n",
    "lst = [-6, -3, -2, -1, 0, 1, 3, 4, 5, 7, 8, 9, 10, 11, 14, 15, 17, 18, 19, 20]\n",
    "\n",
    "# enumerate() returns (0, thing[0]), (1, thing[1])\n",
    "# itemgetter()\n",
    "\n",
    "# the solution to this part can be found in the Python 3 docs\n",
    "for k, g in groupby(enumerate(lst), lambda x: x[0]-x[1]):\n",
    "    r = list(map(itemgetter(1), g))\n",
    "    \n",
    "    if len(r) > 2: \n",
    "        yield f\"{r[0]}-{r[-1]}\"\n",
    "    else:\n",
    "        yield from map(str, r)\n",
    "\n",
    "#return ','.join()"
   ]
  },
  {
   "cell_type": "code",
   "execution_count": 32,
   "metadata": {},
   "outputs": [
    {
     "data": {
      "text/plain": [
       "'-6,-3-1,3-5,7-11,14,15,17-20'"
      ]
     },
     "execution_count": 32,
     "metadata": {},
     "output_type": "execute_result"
    }
   ],
   "source": [
    "def solution(lst):\n",
    "    for _, g in groupby(enumerate(lst), lambda i_x : i_x[0] - i_x[1]):\n",
    "        r = [x for _, x in g]\n",
    "        if len(r) > 2:\n",
    "            yield f\"{r[0]}-{r[-1]}\"\n",
    "        else:\n",
    "            yield from map(str, r)\n",
    "\n",
    "def range_extraction(lst):\n",
    "    return ','.join(solution(lst))\n",
    "\n",
    "range_extraction(lst)"
   ]
  },
  {
   "cell_type": "markdown",
   "metadata": {},
   "source": [
    "15. Write a function that accepts an array of 10 integers (between 0 and 9), that returns a string of those numbers in the form of a phone number.\n",
    "\n",
    "Example:\n",
    "\n",
    "```\n",
    "create_phone_number([1, 2, 3, 4, 5, 6, 7, 8, 9, 0]) # => returns \"(123) 456-7890\"\n",
    "```\n",
    "\n",
    "The returned format must be correct in order to complete this challenge."
   ]
  },
  {
   "cell_type": "code",
   "execution_count": 85,
   "metadata": {},
   "outputs": [
    {
     "data": {
      "text/plain": [
       "'(123) 456-7890'"
      ]
     },
     "execution_count": 85,
     "metadata": {},
     "output_type": "execute_result"
    }
   ],
   "source": [
    "n = [1, 2, 3, 4, 5, 6, 7, 8, 9, 0]\n",
    "create_phone_number(n)"
   ]
  },
  {
   "cell_type": "code",
   "execution_count": 83,
   "metadata": {},
   "outputs": [],
   "source": [
    "def create_phone_number(n):\n",
    "    # convert integer list to string\n",
    "    n = [str(num) for num in n]\n",
    "    \n",
    "    # combine them all  \n",
    "    n = \"\".join(n[:])\n",
    "    \n",
    "    return f\"({n[:3]}) {n[3:6]}-{n[6:]}\""
   ]
  },
  {
   "cell_type": "code",
   "execution_count": 84,
   "metadata": {},
   "outputs": [],
   "source": [
    "# A better way!\n",
    "def create_phone_number(n):\n",
    "    n = \"\".join(map(str, n))\n",
    "    return f\"({n[:3]}) {n[3:6]}-{n[6:]}\"\n",
    "\n",
    "def create_phone_number(n):\n",
    "  return \"({}{}{}) {}{}{}-{}{}{}{}\".format(*n)"
   ]
  },
  {
   "cell_type": "markdown",
   "metadata": {},
   "source": [
    "16. Complete the method/function so that it converts dash/underscore delimited words into camel casing. The first word within the output should be capitalized only if the original word was capitalized (known as Upper Camel Case, also often referred to as Pascal case).\n",
    "\n",
    "```\n",
    "to_camel_case(\"the-stealth-warrior\") # returns \"theStealthWarrior\"\n",
    "\n",
    "to_camel_case(\"The_Stealth_Warrior\") # returns \"TheStealthWarrior\"\n",
    "```\n"
   ]
  },
  {
   "cell_type": "code",
   "execution_count": 149,
   "metadata": {},
   "outputs": [],
   "source": [
    "def to_camel_case(text):\n",
    "    \n",
    "    # Split each word up\n",
    "    # returns a list ['The', 'Stealth', 'Warrior']\n",
    "    split = text.replace('-', ' ').replace('_', \" \").split()\n",
    "    \n",
    "    # check first letter if it is capitalized\n",
    "    if len(text) != 0:\n",
    "        if split[0][0].isupper():\n",
    "        # capital all words in the list\n",
    "            for i in range(0,len(split)):\n",
    "                split[i] = split[i].capitalize()\n",
    "            return \"\".join(split)\n",
    "\n",
    "        else:\n",
    "            # only capitalize the other words\n",
    "            for i in range(1,len(split)):\n",
    "                split[i] = split[i].capitalize()  \n",
    "            return \"\".join(split)\n",
    "    else: \n",
    "        return text\n",
    "    \n",
    "    # ['The', 'Stealth', 'Warrior']\n",
    "    \n",
    "    \n"
   ]
  },
  {
   "cell_type": "code",
   "execution_count": null,
   "metadata": {},
   "outputs": [],
   "source": [
    "# another way\n",
    "\n",
    "def to_camel_case(text):\n",
    "    removed = text.replace('-', ' ').replace('_', ' ').split()\n",
    "    \n",
    "    if len(removed) == 0:\n",
    "        return ''\n",
    "    return removed[0] + ''"
   ]
  },
  {
   "cell_type": "markdown",
   "metadata": {},
   "source": [
    "17. Write an algorithm that takes an array and moves all of the zeros to the end, preserving the order of the other elements.\n",
    "\n",
    "```\n",
    "move_zeros([false,1,0,1,2,0,1,3,\"a\"]) # returns[false,1,1,2,1,3,\"a\",0,0]\n",
    "```"
   ]
  },
  {
   "cell_type": "code",
   "execution_count": 23,
   "metadata": {},
   "outputs": [],
   "source": [
    "def move_zeros(array):\n",
    "    og = []\n",
    "    zeros = []\n",
    "    \n",
    "    for i in range(len(array)):\n",
    "        if array[i] == 0:\n",
    "            if type(array[i]) == int or type(array[i]) == float:\n",
    "                zeros.append(array[i])\n",
    "            else:\n",
    "                og.append(array[i])\n",
    "        else:\n",
    "            og.append(array[i])\n",
    "    return og + zeros\n",
    "            \n"
   ]
  },
  {
   "cell_type": "code",
   "execution_count": 29,
   "metadata": {},
   "outputs": [],
   "source": [
    "def move_zeros(array):\n",
    "    new = []\n",
    "    zero = []\n",
    "    \n",
    "    for i in array:\n",
    "        if item != 0 or type(item) == bool:\n",
    "            new.append(i)\n",
    "        else:\n",
    "            zero.append(i)"
   ]
  },
  {
   "cell_type": "markdown",
   "metadata": {},
   "source": [
    "18. Write a function, which takes a non-negative integer (seconds) as input and returns the time in a human-readable format (HH:MM:SS)\n",
    "\n",
    "```\n",
    "HH = hours, padded to 2 digits, range: 00 - 99\n",
    "MM = minutes, padded to 2 digits, range: 00 - 59\n",
    "SS = seconds, padded to 2 digits, range: 00 - 59\n",
    "The maximum time never exceeds 359999 (99:59:59)\n",
    "```\n",
    "\n",
    "You can find some examples in the test fixtures."
   ]
  },
  {
   "cell_type": "code",
   "execution_count": 8,
   "metadata": {},
   "outputs": [
    {
     "data": {
      "text/plain": [
       "'99:59:59'"
      ]
     },
     "execution_count": 8,
     "metadata": {},
     "output_type": "execute_result"
    }
   ],
   "source": [
    "from math import ceil, floor # returns integer\n",
    "\n",
    "def make_readable(seconds):\n",
    "       \n",
    "    # hours \n",
    "    hours = floor(seconds/3600)\n",
    "    \n",
    "    # minutes\n",
    "    minutes = floor((seconds % 3600)/60)\n",
    "    \n",
    "    # seconds\n",
    "    seconds = (seconds % 3600)%60\n",
    "    \n",
    "    # format the int with 2 digits, left padding with zeroes\n",
    "    return \"%02d:%02d:%02d\" % (hours, minutes, seconds)\n",
    "    \n",
    "\n",
    "make_readable(359999)\n",
    "    \n"
   ]
  },
  {
   "cell_type": "markdown",
   "metadata": {},
   "source": [
    "19. Your task is to sort a given string. Each word in the string will contain a single number. This number is the position the word should have in the result.\n",
    "\n",
    "Note: Numbers can be from 1 to 9. So 1 will be the first word (not 0).\n",
    "\n",
    "If the input string is empty, return an empty string. The words in the input String will only contain valid consecutive numbers.\n",
    "\n",
    "Examples\n",
    "```\n",
    "\"is2 Thi1s T4est 3a\"  -->  \"Thi1s is2 3a T4est\"\n",
    "\"4of Fo1r pe6ople g3ood th5e the2\"  -->  \"Fo1r the2 g3ood 4of th5e pe6ople\"\n",
    "\"\"  -->  \"\"\n",
    "```"
   ]
  },
  {
   "cell_type": "code",
   "execution_count": 48,
   "metadata": {},
   "outputs": [
    {
     "data": {
      "text/plain": [
       "'Thi1s is2 3a T4est'"
      ]
     },
     "execution_count": 48,
     "metadata": {},
     "output_type": "execute_result"
    }
   ],
   "source": [
    "import re \n",
    "\n",
    "def order(sentence):\n",
    "    \n",
    "    # convert string to list\n",
    "    lst = sentence.split()\n",
    "    \n",
    "    dict = {}\n",
    "    \n",
    "    for word in lst:\n",
    "        key = re.findall(r'\\d+', word)\n",
    "        dict[key[0]] = word\n",
    "\n",
    "    sorted_dict = sorted(dict.items())\n",
    "\n",
    "    string = \"\"\n",
    "    for val in sorted_dict:\n",
    "        string = string + val[1] + \" \"\n",
    "    return string[:-1]\n",
    "        \n",
    "order(\"is2 Thi1s T4est 3a\")"
   ]
  },
  {
   "cell_type": "markdown",
   "metadata": {},
   "source": [
    "20. Given an array, find the integer that appears an odd number of times.\n",
    "\n",
    "There will always be only one integer that appears an odd number of times."
   ]
  },
  {
   "cell_type": "code",
   "execution_count": 3,
   "metadata": {},
   "outputs": [
    {
     "data": {
      "text/plain": [
       "5"
      ]
     },
     "execution_count": 3,
     "metadata": {},
     "output_type": "execute_result"
    }
   ],
   "source": [
    "def find_it(seq):\n",
    "    \n",
    "    for num in seq:\n",
    "        count = seq.count(num)\n",
    "        if count % 2 != 0:\n",
    "            return num\n",
    "        \n",
    "    \n",
    "\n",
    "find_it([10])\n",
    "find_it([20,1,1,2,2,3,3,5,5,4,20,4,5])"
   ]
  }
 ],
 "metadata": {
  "colab": {
   "collapsed_sections": [],
   "name": "CodeWars.ipynb",
   "provenance": []
  },
  "kernelspec": {
   "display_name": "Python 3",
   "language": "python",
   "name": "python3"
  },
  "language_info": {
   "codemirror_mode": {
    "name": "ipython",
    "version": 3
   },
   "file_extension": ".py",
   "mimetype": "text/x-python",
   "name": "python",
   "nbconvert_exporter": "python",
   "pygments_lexer": "ipython3",
   "version": "3.7.4"
  }
 },
 "nbformat": 4,
 "nbformat_minor": 1
}
