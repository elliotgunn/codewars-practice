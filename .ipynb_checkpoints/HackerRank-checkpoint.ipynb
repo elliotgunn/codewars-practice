{
 "cells": [
  {
   "cell_type": "markdown",
   "metadata": {},
   "source": []
  },
  {
   "cell_type": "code",
   "execution_count": null,
   "metadata": {},
   "outputs": [],
   "source": [
    "# Complete the 'slowestKey' function below.\n",
    "#\n",
    "# The function is expected to return a CHARACTER.\n",
    "# The function accepts 2D_INTEGER_ARRAY keyTimes as parameter.\n",
    "#\n",
    "def slowestKey(keyTimes):\n",
    "\n",
    "    alpha = keyTimes[0][0]\n",
    "    max_time_so_far = keyTimes[0][1] - keyTimes[0][0] \n",
    "\n",
    "    for i in range(1, len(keyTimes)):\n",
    "        time_diff = keyTimes[i][1] - keyTimes[i-1][1]\n",
    "        if time_diff > max_time_so_far:\n",
    "            max_time_so_far = time_diff\n",
    "            alpha = keyTimes[i][0]\n",
    "    \n",
    "    return chr(alpha + 97)"
   ]
  }
 ],
 "metadata": {
  "kernelspec": {
   "display_name": "Python 3",
   "language": "python",
   "name": "python3"
  },
  "language_info": {
   "codemirror_mode": {
    "name": "ipython",
    "version": 3
   },
   "file_extension": ".py",
   "mimetype": "text/x-python",
   "name": "python",
   "nbconvert_exporter": "python",
   "pygments_lexer": "ipython3",
   "version": "3.7.4"
  }
 },
 "nbformat": 4,
 "nbformat_minor": 2
}
