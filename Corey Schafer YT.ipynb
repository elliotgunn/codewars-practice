{
 "cells": [
  {
   "cell_type": "markdown",
   "metadata": {},
   "source": [
    "1. Know how to code on whiteboard/white paper.\n",
    "2. know the control flow in python like loops, if statement, switch statement etc\n",
    "3. Know the basic built-in data structure like list, tuple, dictionary also know how and when to use them.\n",
    "4. Be able to discuss how you've used python in your projects\n",
    "5. Fundamental problems in python(based on data structures and algorithms)\n",
    "6. Know how to use list comprehension, why it is fast?\n",
    "7. Know how to use generators(Why generators are efficient?)\n",
    "8. Learn basics of Object Oriented Programming.\n",
    "9. Prepare some question for the interviewer.\n",
    "10. Know some other fundamental technologies like git etc."
   ]
  },
  {
   "cell_type": "code",
   "execution_count": null,
   "metadata": {},
   "outputs": [],
   "source": []
  }
 ],
 "metadata": {
  "kernelspec": {
   "display_name": "Python 3",
   "language": "python",
   "name": "python3"
  },
  "language_info": {
   "codemirror_mode": {
    "name": "ipython",
    "version": 3
   },
   "file_extension": ".py",
   "mimetype": "text/x-python",
   "name": "python",
   "nbconvert_exporter": "python",
   "pygments_lexer": "ipython3",
   "version": "3.7.4"
  }
 },
 "nbformat": 4,
 "nbformat_minor": 2
}
