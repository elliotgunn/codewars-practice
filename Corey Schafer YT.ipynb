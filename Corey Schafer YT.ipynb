{
 "cells": [
  {
   "cell_type": "markdown",
   "metadata": {},
   "source": [
    "From \"Preparing for a Python Interview: 10 Things You Should Know\"\n",
    "\n",
    "1. Know how to code on whiteboard/white paper.\n",
    "2. know the control flow in python like loops, if statement, switch statement etc\n",
    "3. Know the basic built-in data structure like list, tuple, dictionary also know how and when to use them.\n",
    "4. Be able to discuss how you've used python in your projects\n",
    "5. Fundamental problems in python(based on data structures and algorithms)\n",
    "6. Know how to use list comprehension, why it is fast?\n",
    "7. Know how to use generators(Why generators are efficient?)\n",
    "8. Learn basics of Object Oriented Programming.\n",
    "9. Prepare some question for the interviewer.\n",
    "10. Know some other fundamental technologies like git etc."
   ]
  },
  {
   "cell_type": "code",
   "execution_count": null,
   "metadata": {},
   "outputs": [],
   "source": [
    "# for loops\n",
    "\n",
    "# while loops\n",
    "\n",
    "# if elif else statements"
   ]
  },
  {
   "cell_type": "code",
   "execution_count": null,
   "metadata": {},
   "outputs": [],
   "source": [
    "# list versus tuple\n",
    "\n",
    "\n",
    "\n",
    "# sets: no repeated values\n",
    "\n"
   ]
  },
  {
   "cell_type": "code",
   "execution_count": 3,
   "metadata": {},
   "outputs": [
    {
     "name": "stdout",
     "output_type": "stream",
     "text": [
      "name, Bronx\n",
      "age, 2\n"
     ]
    }
   ],
   "source": [
    "# dict\n",
    "\n",
    "my_dict = {'name': 'Bronx', 'age': '2'}\n",
    "for key, val in my_dict.items():\n",
    "    print(f'{key}, {val}')"
   ]
  },
  {
   "cell_type": "code",
   "execution_count": 5,
   "metadata": {},
   "outputs": [
    {
     "data": {
      "text/plain": [
       "[1, 4, 9, 16, 25]"
      ]
     },
     "execution_count": 5,
     "metadata": {},
     "output_type": "execute_result"
    }
   ],
   "source": [
    "# list comprehensions: cleaner way to make new lists\n",
    "\n",
    "my_list = [1,2,3,4,5]\n",
    "\n",
    "squares = [num*num for num in my_list]\n",
    "\n",
    "squares"
   ]
  },
  {
   "cell_type": "code",
   "execution_count": null,
   "metadata": {},
   "outputs": [],
   "source": [
    "# generators: example in fibonacci sequence"
   ]
  },
  {
   "cell_type": "code",
   "execution_count": null,
   "metadata": {},
   "outputs": [],
   "source": []
  }
 ],
 "metadata": {
  "kernelspec": {
   "display_name": "Python 3",
   "language": "python",
   "name": "python3"
  },
  "language_info": {
   "codemirror_mode": {
    "name": "ipython",
    "version": 3
   },
   "file_extension": ".py",
   "mimetype": "text/x-python",
   "name": "python",
   "nbconvert_exporter": "python",
   "pygments_lexer": "ipython3",
   "version": "3.7.4"
  }
 },
 "nbformat": 4,
 "nbformat_minor": 2
}
