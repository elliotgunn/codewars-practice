{
 "cells": [
  {
   "cell_type": "code",
   "execution_count": 2,
   "metadata": {},
   "outputs": [
    {
     "name": "stdout",
     "output_type": "stream",
     "text": [
      "[1, 2, 5, 7, 8]\n"
     ]
    }
   ],
   "source": [
    "# 12. Write a code to sort a numerical list in Python.\n",
    "\n",
    "lst = [\"2\", \"5\", \"7\", \"8\", \"1\"]\n",
    "lst = [int(i) for i in lst]\n",
    "lst.sort()\n",
    "print(lst)"
   ]
  },
  {
   "cell_type": "code",
   "execution_count": null,
   "metadata": {},
   "outputs": [],
   "source": [
    "# Given a string, return the first recurring character in it, or ‘None’ if there is no recurring character.\n",
    "\n",
    "string = \"AbcDefg\"\n",
    "\n",
    "for index, char in enumerate(string):\n",
    "    if char in string[index+1:]:\n",
    "        print(char)\n",
    "else:\n",
    "    print(None)"
   ]
  },
  {
   "cell_type": "code",
   "execution_count": null,
   "metadata": {},
   "outputs": [],
   "source": [
    "# Let’s say you’re given a huge 100 gb file that cannot be entirely read into memory at once. Write code in Python to count the total number of lines in the file. \n",
    "\n",
    "function()\n",
    "\n",
    "for line in open(\"file.txt\"):\n",
    "    function(line)"
   ]
  },
  {
   "cell_type": "code",
   "execution_count": null,
   "metadata": {},
   "outputs": [],
   "source": [
    "# Given a string, that contains special character together with alphabets (‘a’ to ‘z’ and ‘A’ to ‘Z’), reverse the string in a way that special characters are not affected.\n",
    "\n",
    "str = \"abc\"\n",
    "\n",
    "reversed = str[len(str)::-1]\n",
    "    \n",
    "reversed    "
   ]
  },
  {
   "cell_type": "code",
   "execution_count": 4,
   "metadata": {},
   "outputs": [
    {
     "data": {
      "text/plain": [
       "'ed?c!ba'"
      ]
     },
     "execution_count": 4,
     "metadata": {},
     "output_type": "execute_result"
    }
   ],
   "source": [
    "def reverse_string(string):\n",
    "    \n",
    "    lst = list(string)\n",
    "    \n",
    "    left = 0\n",
    "    right = len(string)-1 # get the last index\n",
    "    \n",
    "    while left < right:\n",
    "        if not lst[left].isalpha():\n",
    "            left += 1\n",
    "        elif not lst[right].isalpha():\n",
    "            right -= 1\n",
    "        else:\n",
    "            lst[left], lst[right] = lst[right], lst[left]\n",
    "            left +=1\n",
    "            right -=1\n",
    "    return \"\".join(lst)\n",
    "    \n",
    "reverse_string(\"ab?c!de\")\n"
   ]
  },
  {
   "cell_type": "code",
   "execution_count": 8,
   "metadata": {},
   "outputs": [
    {
     "data": {
      "text/plain": [
       "[2, 4, 6, 8]"
      ]
     },
     "execution_count": 8,
     "metadata": {},
     "output_type": "execute_result"
    }
   ],
   "source": [
    "# map functions:\n",
    "# two parameters: function and iterable\n",
    "\n",
    "def doubles(n):\n",
    "    return n*2\n",
    "\n",
    "numbers = [1, 2, 3, 4]\n",
    "\n",
    "result = map(doubles, numbers)\n",
    "\n",
    "# convert map objector to a list, tuple, set etc\n",
    "lst = list(result)  \n",
    "lst"
   ]
  },
  {
   "cell_type": "code",
   "execution_count": 9,
   "metadata": {},
   "outputs": [
    {
     "name": "stdout",
     "output_type": "stream",
     "text": [
      "[5 4 3]\n"
     ]
    }
   ],
   "source": [
    "# with statement:\n",
    "# use it to open a file and close it\n",
    "# once the block of code exits\n",
    "\n",
    "# example\n",
    "with open(\"filename\", \"mode\") as file_var:\n"
   ]
  },
  {
   "cell_type": "code",
   "execution_count": null,
   "metadata": {},
   "outputs": [],
   "source": [
    "# arrays vs lists\n",
    "\n",
    "# lists can store heterogenous data and can be appended\n",
    "# arrays have homogenous data and the length is prefixed"
   ]
  },
  {
   "cell_type": "code",
   "execution_count": null,
   "metadata": {},
   "outputs": [],
   "source": [
    "# __init__\n",
    "# called automaticlally to initiate a new object\n"
   ]
  },
  {
   "cell_type": "code",
   "execution_count": null,
   "metadata": {},
   "outputs": [],
   "source": [
    "# lambda function is a function without a name\n"
   ]
  },
  {
   "cell_type": "code",
   "execution_count": null,
   "metadata": {},
   "outputs": [],
   "source": [
    "# loop interruption:\n",
    "# break: terminates the loop\n",
    "# continue: goes to next iteration of loop"
   ]
  },
  {
   "cell_type": "code",
   "execution_count": 11,
   "metadata": {},
   "outputs": [
    {
     "data": {
      "text/plain": [
       "False"
      ]
     },
     "execution_count": 11,
     "metadata": {},
     "output_type": "execute_result"
    }
   ],
   "source": [
    "# Write a Python program to check whether a given string is a palindrome or not, without using an iterative method.\n",
    "\n",
    "def palin(string):\n",
    "    if string == string[::-1]:\n",
    "        return True\n",
    "    else:\n",
    "        return False\n",
    "palin(\"madame\")"
   ]
  },
  {
   "cell_type": "markdown",
   "metadata": {},
   "source": [
    "Most companies will test your python programming skills, especially functional programming concepts such as map, reduce, filter, lambda, list comprehensions, dict comprehensions. "
   ]
  },
  {
   "cell_type": "code",
   "execution_count": 16,
   "metadata": {},
   "outputs": [
    {
     "name": "stdout",
     "output_type": "stream",
     "text": [
      "1\n",
      "2\n",
      "3 Fizz\n",
      "4\n",
      "5 Buzz\n",
      "6 Fizz\n",
      "7\n",
      "8\n",
      "9 Fizz\n",
      "10 Buzz\n",
      "11\n",
      "12 Fizz\n",
      "13\n",
      "14\n",
      "15 FizzBuzz\n",
      "16\n",
      "17\n",
      "18 Fizz\n",
      "19\n",
      "20 Buzz\n",
      "21 Fizz\n",
      "22\n",
      "23\n",
      "24 Fizz\n",
      "25 Buzz\n",
      "26\n",
      "27 Fizz\n",
      "28\n",
      "29\n",
      "30 FizzBuzz\n",
      "31\n",
      "32\n",
      "33 Fizz\n",
      "34\n",
      "35 Buzz\n",
      "36 Fizz\n",
      "37\n",
      "38\n",
      "39 Fizz\n",
      "40 Buzz\n",
      "41\n",
      "42 Fizz\n",
      "43\n",
      "44\n",
      "45 FizzBuzz\n",
      "46\n",
      "47\n",
      "48 Fizz\n",
      "49\n",
      "50 Buzz\n",
      "51 Fizz\n",
      "52\n",
      "53\n",
      "54 Fizz\n",
      "55 Buzz\n",
      "56\n",
      "57 Fizz\n",
      "58\n",
      "59\n",
      "60 FizzBuzz\n",
      "61\n",
      "62\n",
      "63 Fizz\n",
      "64\n",
      "65 Buzz\n",
      "66 Fizz\n",
      "67\n",
      "68\n",
      "69 Fizz\n",
      "70 Buzz\n",
      "71\n",
      "72 Fizz\n",
      "73\n",
      "74\n",
      "75 FizzBuzz\n",
      "76\n",
      "77\n",
      "78 Fizz\n",
      "79\n",
      "80 Buzz\n",
      "81 Fizz\n",
      "82\n",
      "83\n",
      "84 Fizz\n",
      "85 Buzz\n",
      "86\n",
      "87 Fizz\n",
      "88\n",
      "89\n",
      "90 FizzBuzz\n",
      "91\n",
      "92\n",
      "93 Fizz\n",
      "94\n",
      "95 Buzz\n",
      "96 Fizz\n",
      "97\n",
      "98\n",
      "99 Fizz\n",
      "100 Buzz\n"
     ]
    }
   ],
   "source": [
    "# fizzbuzz\n",
    "# Write a program that prints the numbers 1-100, each on a new line\n",
    "# For each number that is a multiple of 3, print “Fizz” instead of the number\n",
    "# For each number that is a multiple of 5, print “Buzz” instead of the number\n",
    "# For each number that is a multiple of both 3 and 5, print “FizzBuzz” instead of the number\n",
    "\n",
    "for i in range(1,101):\n",
    "    if (i % 3 == 0) and (i % 5 == 0):\n",
    "        print(i, \"FizzBuzz\")\n",
    "    \n",
    "    elif i % 3 == 0:\n",
    "        print(i, \"Fizz\")\n",
    "        \n",
    "    elif i % 5 == 0:\n",
    "        print(i, \"Buzz\")\n",
    "    else:\n",
    "        print(i) \n",
    "        "
   ]
  },
  {
   "cell_type": "code",
   "execution_count": 8,
   "metadata": {},
   "outputs": [],
   "source": [
    "# Write a Python function to return the Nth number in a Fibonacci sequence. \n",
    "# Your algorithm can be either recursive or iterative.\n",
    "\n",
    "# Fibonnaci sequence: Starts with 0, 1. Each number after that is the sum \n",
    "# of the two previous numbers (0,1,1,2,3,5,8 ...)\n",
    "# fib(0) = 0\n",
    "# fib(6) = 8\n",
    "\n",
    "\n",
    "# n = n-1 + n-2\n",
    "\n",
    "\n",
    "def fib(n):\n",
    "    if n == 0:\n",
    "        return 0\n",
    "    elif n == 1 or n == 2:\n",
    "        return 1\n",
    "    \n",
    "    else:\n",
    "        return fib(n-2) + fib(n-1)"
   ]
  }
 ],
 "metadata": {
  "kernelspec": {
   "display_name": "Python 3",
   "language": "python",
   "name": "python3"
  },
  "language_info": {
   "codemirror_mode": {
    "name": "ipython",
    "version": 3
   },
   "file_extension": ".py",
   "mimetype": "text/x-python",
   "name": "python",
   "nbconvert_exporter": "python",
   "pygments_lexer": "ipython3",
   "version": "3.7.4"
  }
 },
 "nbformat": 4,
 "nbformat_minor": 2
}
