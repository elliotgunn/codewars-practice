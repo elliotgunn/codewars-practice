{
 "cells": [
  {
   "cell_type": "markdown",
   "metadata": {},
   "source": [
    "1. Introduction\n",
    "The first century spans from the year 1 up to and including the year 100, The second - from the year 101 up to and including the year 200, etc.\n",
    "\n",
    "Task :\n",
    "Given a year, return the century it is in.\n",
    "```\n",
    "Input , Output Examples ::\n",
    "centuryFromYear(1705)  returns (18)\n",
    "centuryFromYear(1900)  returns (19)\n",
    "centuryFromYear(1601)  returns (17)\n",
    "centuryFromYear(2000)  returns (20)\n",
    "```\n",
    "In SQL, you will be given a table years with a column yr for the year. Return a table with a column century."
   ]
  },
  {
   "cell_type": "code",
   "execution_count": 10,
   "metadata": {},
   "outputs": [
    {
     "data": {
      "text/plain": [
       "(3, 4)"
      ]
     },
     "execution_count": 10,
     "metadata": {},
     "output_type": "execute_result"
    }
   ],
   "source": [
    "from math import ceil, floor\n",
    "\n",
    "ceil(3.0), ceil(3.1)"
   ]
  },
  {
   "cell_type": "code",
   "execution_count": null,
   "metadata": {},
   "outputs": [],
   "source": [
    "# note: have to divide by float \n",
    "# so that years like 1900, 2000 will round up properly\n",
    "\n",
    "SELECT ceiling(yr/100.00) AS century\n",
    "FROM years"
   ]
  }
 ],
 "metadata": {
  "kernelspec": {
   "display_name": "Python 3",
   "language": "python",
   "name": "python3"
  },
  "language_info": {
   "codemirror_mode": {
    "name": "ipython",
    "version": 3
   },
   "file_extension": ".py",
   "mimetype": "text/x-python",
   "name": "python",
   "nbconvert_exporter": "python",
   "pygments_lexer": "ipython3",
   "version": "3.7.4"
  }
 },
 "nbformat": 4,
 "nbformat_minor": 2
}
